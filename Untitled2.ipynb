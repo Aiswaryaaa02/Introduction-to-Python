{
  "nbformat": 4,
  "nbformat_minor": 0,
  "metadata": {
    "colab": {
      "provenance": [],
      "authorship_tag": "ABX9TyP7WwKjY+IVLyf61sShsuLh",
      "include_colab_link": true
    },
    "kernelspec": {
      "name": "python3",
      "display_name": "Python 3"
    },
    "language_info": {
      "name": "python"
    }
  },
  "cells": [
    {
      "cell_type": "markdown",
      "metadata": {
        "id": "view-in-github",
        "colab_type": "text"
      },
      "source": [
        "<a href=\"https://colab.research.google.com/github/Aiswaryaaa02/Introduction-to-Python/blob/main/Untitled2.ipynb\" target=\"_parent\"><img src=\"https://colab.research.google.com/assets/colab-badge.svg\" alt=\"Open In Colab\"/></a>"
      ]
    },
    {
      "cell_type": "code",
      "execution_count": 5,
      "metadata": {
        "colab": {
          "base_uri": "https://localhost:8080/"
        },
        "id": "cTC5KokkoMSe",
        "outputId": "d2ce1199-343a-4b09-fbc0-b5312a3f356a"
      },
      "outputs": [
        {
          "output_type": "stream",
          "name": "stdout",
          "text": [
            "enter the travel source bus\n",
            "enter the travel destination chennai\n",
            "enter the number of passengers  5\n",
            "travel source :  bus\n",
            "travel destination:  chennai\n",
            "number of passengers :  5\n"
          ]
        }
      ],
      "source": [
        "travel_source=input(\"enter the travel source\")\n",
        "destination=input(\"enter the travel destination\")\n",
        "number_of_passengers=int(input(\"enter the number of passengers\"))\n",
        "print(\"travel source :\",travel_source)\n",
        "print(\"travel destination:\",destination)\n",
        "print(\"number of passengers : \",number_of_passengers)"
      ]
    },
    {
      "cell_type": "code",
      "source": [
        "ticket_fare=int(input(\"enter the total ticket fare\"))\n",
        "number_of_passengers=int(input(\"enter the number of passengers\"))\n",
        "x=ticket_fare/number_of_passengers\n",
        "print(\"ticket fare per person \",x)\n"
      ],
      "metadata": {
        "colab": {
          "base_uri": "https://localhost:8080/"
        },
        "id": "S9kqBK2Cp-XV",
        "outputId": "d80a9366-7f2f-4486-a8b3-e6f8d1138c08"
      },
      "execution_count": 7,
      "outputs": [
        {
          "output_type": "stream",
          "name": "stdout",
          "text": [
            "enter the total ticket fare10000\n",
            "enter the number of passengers10\n",
            "ticket fare per person  1000.0\n"
          ]
        }
      ]
    },
    {
      "cell_type": "code",
      "source": [
        "name=input(\"enter the passenger name\")\n",
        "fare=int(input(\"enter the fare\"))\n",
        "print(name,fare)"
      ],
      "metadata": {
        "colab": {
          "base_uri": "https://localhost:8080/"
        },
        "id": "KNpLTxVzr57h",
        "outputId": "2a92fb80-95f6-4119-cf5f-6179a566d0df"
      },
      "execution_count": 11,
      "outputs": [
        {
          "output_type": "stream",
          "name": "stdout",
          "text": [
            "enter the passenger namexyz\n",
            "enter the fare500\n",
            "xyz 500\n"
          ]
        }
      ]
    },
    {
      "cell_type": "code",
      "source": [
        "total_fare=int(input(\"enter the total fare\"))\n",
        "if total_fare>10000:\n",
        "  print(\"eligilble for discount\")"
      ],
      "metadata": {
        "colab": {
          "base_uri": "https://localhost:8080/"
        },
        "id": "6Mtqp8BFsIjh",
        "outputId": "becb64c0-33f2-4dbb-f7b9-979226d976ad"
      },
      "execution_count": 12,
      "outputs": [
        {
          "output_type": "stream",
          "name": "stdout",
          "text": [
            "enter the total fare200000\n",
            "eligilble for discount\n"
          ]
        }
      ]
    },
    {
      "cell_type": "code",
      "source": [
        "total_fare=int(input(\"enter the total fare\"))\n",
        "if total_fare>15000:\n",
        "  print(\"eligible for 20% discount\")\n",
        "else:\n",
        "  print(\"eligible for 10% discount\")"
      ],
      "metadata": {
        "colab": {
          "base_uri": "https://localhost:8080/"
        },
        "id": "AdiqHEPUstz-",
        "outputId": "9437edef-b586-4e74-dc07-c8d3f86bb3ef"
      },
      "execution_count": 14,
      "outputs": [
        {
          "output_type": "stream",
          "name": "stdout",
          "text": [
            "enter the total fare200000\n",
            "eligible for 20% discount\n"
          ]
        }
      ]
    },
    {
      "cell_type": "code",
      "source": [
        "total_fare=int(input(\"enter the total fare\"))\n",
        "if total_fare>15000:\n",
        "  x=total_fare*20/100\n",
        "  print(\"eligible for 20% discount\",x)\n",
        "elif total_fare>10000 and total_fare<15000:\n",
        "  y=total_fare*10/100\n",
        "  print(\"eligible for 10% discount\",y)\n",
        "elif total_fare<10000:\n",
        "  z=total_fare*5/100\n",
        "  print(\"eligible for 5%discount\",z)"
      ],
      "metadata": {
        "colab": {
          "base_uri": "https://localhost:8080/"
        },
        "id": "NL6vIBl9tVwV",
        "outputId": "667f292f-1fe3-47ec-8762-6c0af1cff006"
      },
      "execution_count": 17,
      "outputs": [
        {
          "output_type": "stream",
          "name": "stdout",
          "text": [
            "enter the total fare20000\n",
            "eligible for 20% discount 4000.0\n"
          ]
        }
      ]
    },
    {
      "cell_type": "code",
      "source": [
        "total_fare=int(input(\"enter the total fare\"))\n",
        "if total_fare>15000:\n",
        "  x=total_fare*20/100\n",
        "  print(\"eligible for 20% discount\",x)\n",
        "elif total_fare>10000 and total_fare<15000:\n",
        "  y=total_fare*10/100\n",
        "  print(\"eligible for 10% discount\",y)\n",
        "elif total_fare<10000:\n",
        "  z=total_fare*5/100\n",
        "  print(\"eligible for 5%discount\",z)"
      ],
      "metadata": {
        "colab": {
          "base_uri": "https://localhost:8080/"
        },
        "id": "bdEl-Tnkul2u",
        "outputId": "f11bc602-5f92-4fed-dacd-23df7d690e4c"
      },
      "execution_count": 18,
      "outputs": [
        {
          "output_type": "stream",
          "name": "stdout",
          "text": [
            "enter the total fare14000\n",
            "eligible for 10% discount 1400.0\n"
          ]
        }
      ]
    },
    {
      "cell_type": "code",
      "source": [
        "total_fare=int(input(\"enter the total fare\"))\n",
        "if total_fare>15000:\n",
        "  x=total_fare*20/100\n",
        "  print(\"eligible for 20% discount\",x)\n",
        "elif total_fare>10000 and total_fare<15000:\n",
        "  y=total_fare*10/100\n",
        "  print(\"eligible for 10% discount\",y)\n",
        "elif total_fare<10000:\n",
        "  z=total_fare*5/100\n",
        "  print(\"eligible for 5%discount\",z)"
      ],
      "metadata": {
        "colab": {
          "base_uri": "https://localhost:8080/"
        },
        "id": "hRcEa0GQu20X",
        "outputId": "dbfd1c8e-e395-46db-d158-60ac7667b1e4"
      },
      "execution_count": 19,
      "outputs": [
        {
          "output_type": "stream",
          "name": "stdout",
          "text": [
            "enter the total fare5000\n",
            "eligible for 5%discount 250.0\n"
          ]
        }
      ]
    },
    {
      "cell_type": "code",
      "source": [
        "num=int(input(\"enter the number\"))\n",
        "if num>0:\n",
        "  print(\"positive\")\n",
        "elif num<0:\n",
        "  print(\"negative\")\n",
        "else:\n",
        "  print(\"zero\")"
      ],
      "metadata": {
        "colab": {
          "base_uri": "https://localhost:8080/"
        },
        "id": "KUkk-jYBvBs6",
        "outputId": "c8be4070-3628-491b-ede1-848ebd621753"
      },
      "execution_count": 21,
      "outputs": [
        {
          "output_type": "stream",
          "name": "stdout",
          "text": [
            "enter the number-3\n",
            "negative\n"
          ]
        }
      ]
    },
    {
      "cell_type": "code",
      "source": [
        "age=float(input(\"enter the age\"))\n",
        "if age>=18:\n",
        "  print(\"adult\")\n",
        "elif age>=13 and age<18:\n",
        "  print(\"teenager\")\n",
        "elif age>=6 and age<13:\n",
        "  print(\"kid\")\n",
        "elif age>=2 and age<5:\n",
        "  print(\"toddler\")\n",
        "elif age<2:\n",
        "  print(\"infant\")"
      ],
      "metadata": {
        "colab": {
          "base_uri": "https://localhost:8080/"
        },
        "id": "-8BUFY2Hvc6n",
        "outputId": "7f598b5a-2449-432b-8473-99a214ee2d50"
      },
      "execution_count": 30,
      "outputs": [
        {
          "output_type": "stream",
          "name": "stdout",
          "text": [
            "enter the age1\n",
            "infant\n"
          ]
        }
      ]
    },
    {
      "cell_type": "code",
      "source": [
        "initial=input(\"enter the initial of the name\")\n",
        "if initial in('a','e','i','o','u','A','E','I','O','U'):\n",
        "  print(\" vowel\")\n",
        "else:\n",
        "  print(\"not vowel\")"
      ],
      "metadata": {
        "colab": {
          "base_uri": "https://localhost:8080/"
        },
        "id": "1TtXwiOmxtxg",
        "outputId": "99961701-559c-4c51-bb5a-c2f2e4abbbe5"
      },
      "execution_count": 32,
      "outputs": [
        {
          "output_type": "stream",
          "name": "stdout",
          "text": [
            "enter the initial of the namex\n",
            "not vowel\n"
          ]
        }
      ]
    },
    {
      "cell_type": "code",
      "source": [
        "name=input(\"enter the pasengers name\")\n",
        "for i in name:\n",
        "  print(i)"
      ],
      "metadata": {
        "colab": {
          "base_uri": "https://localhost:8080/"
        },
        "id": "tSPZRRsG00rK",
        "outputId": "b14cae5f-d04d-43f3-9367-62f78672b5e0"
      },
      "execution_count": 33,
      "outputs": [
        {
          "output_type": "stream",
          "name": "stdout",
          "text": [
            "enter the pasengers nameaiswarya\n",
            "a\n",
            "i\n",
            "s\n",
            "w\n",
            "a\n",
            "r\n",
            "y\n",
            "a\n"
          ]
        }
      ]
    },
    {
      "cell_type": "code",
      "source": [
        "for i in range(45,89,2):\n",
        "  print(i)"
      ],
      "metadata": {
        "colab": {
          "base_uri": "https://localhost:8080/"
        },
        "id": "niS6M9_H1xug",
        "outputId": "44f94af8-b141-475e-db6a-b69a699fe22a"
      },
      "execution_count": 34,
      "outputs": [
        {
          "output_type": "stream",
          "name": "stdout",
          "text": [
            "45\n",
            "47\n",
            "49\n",
            "51\n",
            "53\n",
            "55\n",
            "57\n",
            "59\n",
            "61\n",
            "63\n",
            "65\n",
            "67\n",
            "69\n",
            "71\n",
            "73\n",
            "75\n",
            "77\n",
            "79\n",
            "81\n",
            "83\n",
            "85\n",
            "87\n"
          ]
        }
      ]
    },
    {
      "cell_type": "code",
      "source": [
        "x=0\n",
        "for i in range(1,11):\n",
        "  x=x+i\n",
        "  print(i,x)\n"
      ],
      "metadata": {
        "colab": {
          "base_uri": "https://localhost:8080/"
        },
        "id": "oSVF0hnD4qtB",
        "outputId": "13d02179-0793-42a3-cbe0-cdfd202ae435"
      },
      "execution_count": 38,
      "outputs": [
        {
          "output_type": "stream",
          "name": "stdout",
          "text": [
            "1 1\n",
            "2 3\n",
            "3 6\n",
            "4 10\n",
            "5 15\n",
            "6 21\n",
            "7 28\n",
            "8 36\n",
            "9 45\n",
            "10 55\n"
          ]
        }
      ]
    },
    {
      "cell_type": "code",
      "source": [
        "for i in range (5):\n",
        "  for j in range(i):\n",
        "    print(i, end='')\n",
        "  print(\" \")"
      ],
      "metadata": {
        "colab": {
          "base_uri": "https://localhost:8080/"
        },
        "id": "JuQA7qmp6tAI",
        "outputId": "b4daea76-b69b-40ff-f764-85b5380a52ee"
      },
      "execution_count": 43,
      "outputs": [
        {
          "output_type": "stream",
          "name": "stdout",
          "text": [
            " \n",
            "1 \n",
            "22 \n",
            "333 \n",
            "4444 \n"
          ]
        }
      ]
    }
  ]
}