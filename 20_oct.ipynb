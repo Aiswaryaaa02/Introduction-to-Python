{
  "nbformat": 4,
  "nbformat_minor": 0,
  "metadata": {
    "colab": {
      "provenance": [],
      "authorship_tag": "ABX9TyPwqcPARoqiJKNg22R2W+n0",
      "include_colab_link": true
    },
    "kernelspec": {
      "name": "python3",
      "display_name": "Python 3"
    },
    "language_info": {
      "name": "python"
    }
  },
  "cells": [
    {
      "cell_type": "markdown",
      "metadata": {
        "id": "view-in-github",
        "colab_type": "text"
      },
      "source": [
        "<a href=\"https://colab.research.google.com/github/Aiswaryaaa02/Introduction-to-Python/blob/main/20_oct.ipynb\" target=\"_parent\"><img src=\"https://colab.research.google.com/assets/colab-badge.svg\" alt=\"Open In Colab\"/></a>"
      ]
    },
    {
      "cell_type": "code",
      "execution_count": 1,
      "metadata": {
        "colab": {
          "base_uri": "https://localhost:8080/"
        },
        "id": "dtooTgLYd__G",
        "outputId": "f35c66fe-ea13-4887-f0d3-b21d4de90d41"
      },
      "outputs": [
        {
          "output_type": "stream",
          "name": "stdout",
          "text": [
            "80\n",
            "YOU ARE PASSED\n"
          ]
        }
      ],
      "source": [
        "mark=int(input())\n",
        "if mark>50:\n",
        "  print(\"YOU ARE PASSED\")\n",
        "else:\n",
        "  print(\"YOU ARE FAILED\")"
      ]
    },
    {
      "cell_type": "code",
      "source": [
        "mark=int(input())\n",
        "if mark>50:\n",
        "  print(\"YOU ARE PASSED\")\n",
        "elif mark==50:\n",
        "  print(\"JUST PASS\")\n",
        "else:\n",
        "  print(\"YOU ARE FAILED\")"
      ],
      "metadata": {
        "colab": {
          "base_uri": "https://localhost:8080/"
        },
        "id": "zTn5SJLqhWmT",
        "outputId": "30b36291-1448-4a2f-9cfd-2e4d9438d64c"
      },
      "execution_count": 2,
      "outputs": [
        {
          "output_type": "stream",
          "name": "stdout",
          "text": [
            "50\n",
            "JUST PASS\n"
          ]
        }
      ]
    },
    {
      "cell_type": "code",
      "source": [
        "s=int(input('enter salary'))\n",
        "if s>=250000:\n",
        "  print(\"you are taxable\")\n",
        "elif s<250000:\n",
        "  print(\"you are not taxable\")"
      ],
      "metadata": {
        "colab": {
          "base_uri": "https://localhost:8080/"
        },
        "id": "WQK1ZvmwmwCS",
        "outputId": "2570e8ad-8bc3-42cc-e622-317747fe8b10"
      },
      "execution_count": 5,
      "outputs": [
        {
          "output_type": "stream",
          "name": "stdout",
          "text": [
            "enter salary300000\n",
            "you are taxable\n"
          ]
        }
      ]
    },
    {
      "cell_type": "code",
      "source": [
        "s=int(input('Enter Salary :'))\n",
        "if s>=250000:\n",
        "  print(\"YOU ARE TAXABLE\")\n",
        "  x=s-250000\n",
        "  print(\"TAX \",x*10/100)\n",
        "elif s<250000:\n",
        "  print(\"YOU ARE NOT TAXABLE\")"
      ],
      "metadata": {
        "colab": {
          "base_uri": "https://localhost:8080/"
        },
        "outputId": "384fd525-9ea5-4cec-990b-5d4dd7ea632d",
        "id": "zJigpfggmT_T"
      },
      "execution_count": 6,
      "outputs": [
        {
          "output_type": "stream",
          "name": "stdout",
          "text": [
            "Enter Salary :300000\n",
            "YOU ARE TAXABLE\n",
            "TAX  5000.0\n"
          ]
        }
      ]
    },
    {
      "cell_type": "code",
      "source": [
        "s=int(input('Enter Salary :'))\n",
        "if s>250000 and s<=500000:\n",
        "  print(\"tax\",s*10/100)\n",
        "elif s>500000:\n",
        "  print(\"tax\",s*20/100)"
      ],
      "metadata": {
        "colab": {
          "base_uri": "https://localhost:8080/"
        },
        "id": "wqgq8_NllnIh",
        "outputId": "f8284284-2553-422a-e008-2378591616c4"
      },
      "execution_count": 10,
      "outputs": [
        {
          "output_type": "stream",
          "name": "stdout",
          "text": [
            "Enter Salary :400000\n",
            "tax 40000.0\n"
          ]
        }
      ]
    },
    {
      "cell_type": "code",
      "source": [
        "s=int(input('Enter Salary :'))\n",
        "if s>=250000 and s<=500000:\n",
        "  print(\"YOU ARE TAXABLE\")\n",
        "  x=s-250000\n",
        "  t=x*10/100\n",
        "  print(\"tax\",t)\n",
        "elif s>500000:\n",
        "  print(\"YOU ARE TAXABLE\")\n",
        "  y=s-500000\n",
        "  T=y*20/100\n",
        "  print(\"tax\",y*20/100)\n",
        "  z=t+T\n",
        "  print(\"tax :\",z)\n",
        "elif s<250000:\n",
        "  print(\"YOU ARE NOT TAXABLE\")"
      ],
      "metadata": {
        "colab": {
          "base_uri": "https://localhost:8080/",
          "height": 287
        },
        "id": "KkJyDTdMr2AJ",
        "outputId": "8174f87c-19de-4b7a-90eb-6ea90c4269da"
      },
      "execution_count": 24,
      "outputs": [
        {
          "output_type": "stream",
          "name": "stdout",
          "text": [
            "Enter Salary :600000\n",
            "YOU ARE TAXABLE\n",
            "tax 20000.0\n"
          ]
        },
        {
          "output_type": "error",
          "ename": "NameError",
          "evalue": "ignored",
          "traceback": [
            "\u001b[0;31m---------------------------------------------------------------------------\u001b[0m",
            "\u001b[0;31mNameError\u001b[0m                                 Traceback (most recent call last)",
            "\u001b[0;32m<ipython-input-24-3bb96fb7381a>\u001b[0m in \u001b[0;36m<module>\u001b[0;34m\u001b[0m\n\u001b[1;32m     10\u001b[0m   \u001b[0mT\u001b[0m\u001b[0;34m=\u001b[0m\u001b[0my\u001b[0m\u001b[0;34m*\u001b[0m\u001b[0;36m20\u001b[0m\u001b[0;34m/\u001b[0m\u001b[0;36m100\u001b[0m\u001b[0;34m\u001b[0m\u001b[0;34m\u001b[0m\u001b[0m\n\u001b[1;32m     11\u001b[0m   \u001b[0mprint\u001b[0m\u001b[0;34m(\u001b[0m\u001b[0;34m\"tax\"\u001b[0m\u001b[0;34m,\u001b[0m\u001b[0my\u001b[0m\u001b[0;34m*\u001b[0m\u001b[0;36m20\u001b[0m\u001b[0;34m/\u001b[0m\u001b[0;36m100\u001b[0m\u001b[0;34m)\u001b[0m\u001b[0;34m\u001b[0m\u001b[0;34m\u001b[0m\u001b[0m\n\u001b[0;32m---> 12\u001b[0;31m   \u001b[0mz\u001b[0m\u001b[0;34m=\u001b[0m\u001b[0mt\u001b[0m\u001b[0;34m+\u001b[0m\u001b[0mT\u001b[0m\u001b[0;34m\u001b[0m\u001b[0;34m\u001b[0m\u001b[0m\n\u001b[0m\u001b[1;32m     13\u001b[0m   \u001b[0mprint\u001b[0m\u001b[0;34m(\u001b[0m\u001b[0;34m\"tax :\"\u001b[0m\u001b[0;34m,\u001b[0m\u001b[0mz\u001b[0m\u001b[0;34m)\u001b[0m\u001b[0;34m\u001b[0m\u001b[0;34m\u001b[0m\u001b[0m\n\u001b[1;32m     14\u001b[0m \u001b[0;32melif\u001b[0m \u001b[0ms\u001b[0m\u001b[0;34m<\u001b[0m\u001b[0;36m250000\u001b[0m\u001b[0;34m:\u001b[0m\u001b[0;34m\u001b[0m\u001b[0;34m\u001b[0m\u001b[0m\n",
            "\u001b[0;31mNameError\u001b[0m: name 't' is not defined"
          ]
        }
      ]
    }
  ]
}