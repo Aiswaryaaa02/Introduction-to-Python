{
  "nbformat": 4,
  "nbformat_minor": 0,
  "metadata": {
    "colab": {
      "provenance": [],
      "authorship_tag": "ABX9TyOMFSAKZlGe1I6jbW+ZkQx8",
      "include_colab_link": true
    },
    "kernelspec": {
      "name": "python3",
      "display_name": "Python 3"
    },
    "language_info": {
      "name": "python"
    }
  },
  "cells": [
    {
      "cell_type": "markdown",
      "metadata": {
        "id": "view-in-github",
        "colab_type": "text"
      },
      "source": [
        "<a href=\"https://colab.research.google.com/github/Aiswaryaaa02/Introduction-to-Python/blob/main/Untitled6.ipynb\" target=\"_parent\"><img src=\"https://colab.research.google.com/assets/colab-badge.svg\" alt=\"Open In Colab\"/></a>"
      ]
    },
    {
      "cell_type": "code",
      "source": [
        "def fun_name(*)\n",
        "print('the thrd ',x[2])"
      ],
      "metadata": {
        "id": "px4I9Ztb84ZS",
        "colab": {
          "base_uri": "https://localhost:8080/",
          "height": 130
        },
        "outputId": "02e7bf39-f4bc-4962-e4d3-e915c3a0452c"
      },
      "execution_count": 1,
      "outputs": [
        {
          "output_type": "error",
          "ename": "SyntaxError",
          "evalue": "ignored",
          "traceback": [
            "\u001b[0;36m  File \u001b[0;32m\"<ipython-input-1-88d00cdba06f>\"\u001b[0;36m, line \u001b[0;32m1\u001b[0m\n\u001b[0;31m    def fun_name(*)\u001b[0m\n\u001b[0m                   ^\u001b[0m\n\u001b[0;31mSyntaxError\u001b[0m\u001b[0;31m:\u001b[0m invalid syntax\n"
          ]
        }
      ]
    },
    {
      "cell_type": "code",
      "source": [
        "def x():\n",
        "  print(\"fifa world cup\")\n",
        "x()"
      ],
      "metadata": {
        "colab": {
          "base_uri": "https://localhost:8080/"
        },
        "id": "ICw9KlCHvDwW",
        "outputId": "88ca2a4e-7a8f-4ef3-ff14-c63ce37ea97c"
      },
      "execution_count": 2,
      "outputs": [
        {
          "output_type": "stream",
          "name": "stdout",
          "text": [
            "fifa world cup\n"
          ]
        }
      ]
    },
    {
      "cell_type": "code",
      "source": [
        "def name(firstname,middlename,lastname):\n",
        "  print(firstname,middlename,lastname)\n",
        "name(\"x\",\"y\",\"z\")\n",
        "\n"
      ],
      "metadata": {
        "colab": {
          "base_uri": "https://localhost:8080/"
        },
        "id": "-KFfPwtxvq_c",
        "outputId": "4412f10d-119d-4697-87bb-1908c149576d"
      },
      "execution_count": 7,
      "outputs": [
        {
          "output_type": "stream",
          "name": "stdout",
          "text": [
            "x y z\n"
          ]
        }
      ]
    },
    {
      "cell_type": "code",
      "source": [
        "def name(firstname,middlename,lastname):\n",
        "  print(lastname,middlename,firstname)\n",
        "name(lastname='z',middlename='y',firstname='x')\n"
      ],
      "metadata": {
        "colab": {
          "base_uri": "https://localhost:8080/"
        },
        "id": "Q80FIRH5wJwD",
        "outputId": "543b272a-6ff7-41c7-c280-297e873c6f4c"
      },
      "execution_count": 8,
      "outputs": [
        {
          "output_type": "stream",
          "name": "stdout",
          "text": [
            "z y x\n"
          ]
        }
      ]
    },
    {
      "cell_type": "code",
      "source": [
        "def football(*x):\n",
        "  print(\"2nd favourite football palyer \",x[1])\n",
        "football('ronaldo','messi','neymar')"
      ],
      "metadata": {
        "colab": {
          "base_uri": "https://localhost:8080/"
        },
        "id": "6gVueU_2yYSA",
        "outputId": "bc1b076a-483a-42b5-819a-206e9a806244"
      },
      "execution_count": 10,
      "outputs": [
        {
          "output_type": "stream",
          "name": "stdout",
          "text": [
            "2nd favourite football palyer  messi\n"
          ]
        }
      ]
    },
    {
      "cell_type": "code",
      "source": [
        "def funname(country='norway'):\n",
        "  print(\"i am from \"+ country)\n",
        "funname()\n",
        "funname(\"sweden\") "
      ],
      "metadata": {
        "colab": {
          "base_uri": "https://localhost:8080/"
        },
        "id": "IiL7MTCcy6Ho",
        "outputId": "2b9afaff-42b4-4c0b-e01f-cf658560b2f2"
      },
      "execution_count": 15,
      "outputs": [
        {
          "output_type": "stream",
          "name": "stdout",
          "text": [
            "i am from norway\n",
            "i am from sweden\n"
          ]
        }
      ]
    },
    {
      "cell_type": "code",
      "source": [
        "def team(c1,c2,c3='Mexico'):\n",
        "  print(\"my favourite teams are \" + c1 + c2 + c3)\n",
        "\n",
        "team('Norway ','India ')"
      ],
      "metadata": {
        "colab": {
          "base_uri": "https://localhost:8080/"
        },
        "id": "iX3WrFm62u9w",
        "outputId": "31339e5e-8c60-4904-96f7-9872ace3a555"
      },
      "execution_count": 32,
      "outputs": [
        {
          "output_type": "stream",
          "name": "stdout",
          "text": [
            "my favourite teams are Norway India Mexico\n"
          ]
        }
      ]
    },
    {
      "cell_type": "code",
      "source": [
        "def fact(n):\n",
        "  if n<=1:\n",
        "    return n\n",
        "  else:\n",
        "    return(fact(n-1)+n)\n",
        "print(fact(10))\n",
        "  "
      ],
      "metadata": {
        "colab": {
          "base_uri": "https://localhost:8080/"
        },
        "id": "hfiSXeu24Ol2",
        "outputId": "a8f02a87-78c2-4e8c-d669-f78df2792a91"
      },
      "execution_count": 33,
      "outputs": [
        {
          "output_type": "stream",
          "name": "stdout",
          "text": [
            "55\n"
          ]
        }
      ]
    },
    {
      "cell_type": "code",
      "source": [],
      "metadata": {
        "id": "ueYW2LBc7KHR"
      },
      "execution_count": null,
      "outputs": []
    }
  ]
}