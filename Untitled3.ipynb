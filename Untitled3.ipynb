{
  "nbformat": 4,
  "nbformat_minor": 0,
  "metadata": {
    "colab": {
      "provenance": [],
      "authorship_tag": "ABX9TyOmjEO0mAWWumRLmigtaY0f",
      "include_colab_link": true
    },
    "kernelspec": {
      "name": "python3",
      "display_name": "Python 3"
    },
    "language_info": {
      "name": "python"
    }
  },
  "cells": [
    {
      "cell_type": "markdown",
      "metadata": {
        "id": "view-in-github",
        "colab_type": "text"
      },
      "source": [
        "<a href=\"https://colab.research.google.com/github/Aiswaryaaa02/Introduction-to-Python/blob/main/Untitled3.ipynb\" target=\"_parent\"><img src=\"https://colab.research.google.com/assets/colab-badge.svg\" alt=\"Open In Colab\"/></a>"
      ]
    },
    {
      "cell_type": "code",
      "execution_count": null,
      "metadata": {
        "colab": {
          "base_uri": "https://localhost:8080/"
        },
        "id": "hihtqpWnh1d1",
        "outputId": "25664af2-e4fe-4bfe-cde1-5e8f02a83500"
      },
      "outputs": [
        {
          "output_type": "stream",
          "name": "stdout",
          "text": [
            "enter the number2\n",
            "the absolute value 2\n"
          ]
        }
      ],
      "source": [
        "n=int(input(\"enter the number\"))\n",
        "if n<0:\n",
        "  print(\"the absolute value is \" ,n*-1)\n",
        "else:\n",
        "  print(\"the absolute value\",n)"
      ]
    },
    {
      "cell_type": "code",
      "source": [
        "mark=int(input(\"enter the marks : \"))\n",
        "if mark>=80:\n",
        "  print(\"GRADE-A\")\n",
        "elif mark>=60 and mark<80:\n",
        "  print(\"GRADE-B\")\n",
        "elif mark>=50 and mark<60:\n",
        "  print(\"GRADE-C\")\n",
        "elif mark>=45 and mark<50:\n",
        "  print(\"GRADE-D\")\n",
        "elif mark>=25 and mark<45:\n",
        "  print(\"GRADE-E\")\n",
        "else:\n",
        "  print(\"GRADE-F\")\n",
        "\n"
      ],
      "metadata": {
        "id": "-bHuqwJ4jTYN",
        "colab": {
          "base_uri": "https://localhost:8080/"
        },
        "outputId": "19fedae6-f6f8-496d-c998-e7304c3aa30c"
      },
      "execution_count": 5,
      "outputs": [
        {
          "output_type": "stream",
          "name": "stdout",
          "text": [
            "enter the marks : 15\n",
            "GRADE-F\n"
          ]
        }
      ]
    },
    {
      "cell_type": "code",
      "source": [
        "x=int(input(\"enter the total no of classes held :\"))\n",
        "y=int(input(\"enter total no of classes attended\"))\n",
        "z=y/x*100\n",
        "if z>75:\n",
        "  print(\"percentage of class attended\",z)\n",
        "  print(\"ALLOWED TO SIT FOR EXAM\")\n",
        "elif z<75:\n",
        "  print(\"percentage of total class attended\",z)\n",
        "  print(\"NOT ALLOWED TO SIT FOR EXAM\")\n"
      ],
      "metadata": {
        "id": "B87oJUKXkjMb",
        "colab": {
          "base_uri": "https://localhost:8080/"
        },
        "outputId": "d4ad488a-7281-4f5e-f07f-e26e08d6a651"
      },
      "execution_count": 9,
      "outputs": [
        {
          "output_type": "stream",
          "name": "stdout",
          "text": [
            "enter the total no of classes held :50\n",
            "enter total no of classes attended45\n",
            "percentage of class attended 90.0\n",
            "ALLOWED TO SIT FOR EXAM\n"
          ]
        }
      ]
    },
    {
      "cell_type": "code",
      "source": [
        "print(' 1.Addition \\n 2.Subtraction \\n 3.Multiplication \\n 4.Division \\n 5.Modulus \\n 6.Floor division \\n 7.Exponent')\n",
        "n=int(input(\"enter the operation to be performed\"))\n",
        "x=int(input(\"enter the first no\"))\n",
        "y=int(input(\"enter the second no\"))\n",
        "if n==1:\n",
        "  print(\"addition :\",x+y)\n",
        "elif n==2:\n",
        "  print(\"subtraction :\",x-y)\n",
        "elif n==3:\n",
        "  print(\"multiplication :\",x*y)\n",
        "elif n==4:\n",
        "  print(\"division :\",x/y)\n",
        "elif n==5:\n",
        "  print(\"modulus :\",x%y)\n",
        "elif n==6:\n",
        "  print(\"floor division : \",x//y)\n",
        "elif n==7:\n",
        "  print(\"exponent :\",x**y)\n"
      ],
      "metadata": {
        "colab": {
          "base_uri": "https://localhost:8080/"
        },
        "id": "GEoy2DxPpajC",
        "outputId": "2b9695db-a516-4c51-b4e4-18c3e8eb5225"
      },
      "execution_count": 11,
      "outputs": [
        {
          "output_type": "stream",
          "name": "stdout",
          "text": [
            " 1.Addition \n",
            " 2.Subtraction \n",
            " 3.Multiplication \n",
            " 4.Division \n",
            " 5.Modulus \n",
            " 6.Floor division \n",
            " 7.Exponent\n",
            "enter the operation to be performed3\n",
            "enter the first no2\n",
            "enter the second no4\n",
            "multiplication : 8\n"
          ]
        }
      ]
    },
    {
      "cell_type": "code",
      "source": [
        "import statistics as s\n",
        "m1=float(input(\"enter the mark for subject1 :\"))\n",
        "m2=int(input(\"enter the mark for subject2 :\"))\n",
        "m3=int(input(\"enter the mark for subject3 :\"))\n",
        "m4=int(input(\"enter the mark for subject4 :\"))\n",
        "m5=int(input(\"enter the mark for subject5 :\"))\n",
        "m=m1,m2,m3,m4,m5\n",
        "print(\"least mark :\",min(m1,m2,m3,m4,m5))\n",
        "print(\"maximum mark :\",max(m1,m2,m3,m4,m5))\n",
        "print(\"average mark :\",s.mean([m1,m2,m3,m4,m5]))\n",
        "print(\"round off marks :\",round(s.mean([m1,m2,m3,m4,m5]),3))"
      ],
      "metadata": {
        "colab": {
          "base_uri": "https://localhost:8080/",
          "height": 253
        },
        "id": "fej2GW_ZxCjB",
        "outputId": "2d05c603-633c-4b9a-df32-326cee9bd894"
      },
      "execution_count": 38,
      "outputs": [
        {
          "name": "stdout",
          "output_type": "stream",
          "text": [
            "enter the mark for subject1 :e\n"
          ]
        },
        {
          "output_type": "error",
          "ename": "ValueError",
          "evalue": "ignored",
          "traceback": [
            "\u001b[0;31m---------------------------------------------------------------------------\u001b[0m",
            "\u001b[0;31mValueError\u001b[0m                                Traceback (most recent call last)",
            "\u001b[0;32m<ipython-input-38-71cebb422467>\u001b[0m in \u001b[0;36m<module>\u001b[0;34m\u001b[0m\n\u001b[1;32m      1\u001b[0m \u001b[0;32mimport\u001b[0m \u001b[0mstatistics\u001b[0m \u001b[0;32mas\u001b[0m \u001b[0ms\u001b[0m\u001b[0;34m\u001b[0m\u001b[0;34m\u001b[0m\u001b[0m\n\u001b[0;32m----> 2\u001b[0;31m \u001b[0mm1\u001b[0m\u001b[0;34m=\u001b[0m\u001b[0mfloat\u001b[0m\u001b[0;34m(\u001b[0m\u001b[0minput\u001b[0m\u001b[0;34m(\u001b[0m\u001b[0;34m\"enter the mark for subject1 :\"\u001b[0m\u001b[0;34m)\u001b[0m\u001b[0;34m)\u001b[0m\u001b[0;34m\u001b[0m\u001b[0;34m\u001b[0m\u001b[0m\n\u001b[0m\u001b[1;32m      3\u001b[0m \u001b[0mm2\u001b[0m\u001b[0;34m=\u001b[0m\u001b[0mint\u001b[0m\u001b[0;34m(\u001b[0m\u001b[0minput\u001b[0m\u001b[0;34m(\u001b[0m\u001b[0;34m\"enter the mark for subject2 :\"\u001b[0m\u001b[0;34m)\u001b[0m\u001b[0;34m)\u001b[0m\u001b[0;34m\u001b[0m\u001b[0;34m\u001b[0m\u001b[0m\n\u001b[1;32m      4\u001b[0m \u001b[0mm3\u001b[0m\u001b[0;34m=\u001b[0m\u001b[0mint\u001b[0m\u001b[0;34m(\u001b[0m\u001b[0minput\u001b[0m\u001b[0;34m(\u001b[0m\u001b[0;34m\"enter the mark for subject3 :\"\u001b[0m\u001b[0;34m)\u001b[0m\u001b[0;34m)\u001b[0m\u001b[0;34m\u001b[0m\u001b[0;34m\u001b[0m\u001b[0m\n\u001b[1;32m      5\u001b[0m \u001b[0mm4\u001b[0m\u001b[0;34m=\u001b[0m\u001b[0mint\u001b[0m\u001b[0;34m(\u001b[0m\u001b[0minput\u001b[0m\u001b[0;34m(\u001b[0m\u001b[0;34m\"enter the mark for subject4 :\"\u001b[0m\u001b[0;34m)\u001b[0m\u001b[0;34m)\u001b[0m\u001b[0;34m\u001b[0m\u001b[0;34m\u001b[0m\u001b[0m\n",
            "\u001b[0;31mValueError\u001b[0m: could not convert string to float: 'e'"
          ]
        }
      ]
    },
    {
      "cell_type": "code",
      "source": [
        "name=input(\"enter the name\")\n",
        "if name.isupper():\n",
        "  print(name.lower())\n",
        "if name.islower():\n",
        "  print(name.upper())\n",
        "print(length(name))"
      ],
      "metadata": {
        "colab": {
          "base_uri": "https://localhost:8080/",
          "height": 235
        },
        "id": "eK3NS94U3bHr",
        "outputId": "0c81c7df-5f73-42b8-f822-62202c281091"
      },
      "execution_count": 42,
      "outputs": [
        {
          "output_type": "stream",
          "name": "stdout",
          "text": [
            "enter the nameaiswarya\n",
            "AISWARYA\n"
          ]
        },
        {
          "output_type": "error",
          "ename": "NameError",
          "evalue": "ignored",
          "traceback": [
            "\u001b[0;31m---------------------------------------------------------------------------\u001b[0m",
            "\u001b[0;31mNameError\u001b[0m                                 Traceback (most recent call last)",
            "\u001b[0;32m<ipython-input-42-3cbc168d237a>\u001b[0m in \u001b[0;36m<module>\u001b[0;34m\u001b[0m\n\u001b[1;32m      4\u001b[0m \u001b[0;32mif\u001b[0m \u001b[0mname\u001b[0m\u001b[0;34m.\u001b[0m\u001b[0mislower\u001b[0m\u001b[0;34m(\u001b[0m\u001b[0;34m)\u001b[0m\u001b[0;34m:\u001b[0m\u001b[0;34m\u001b[0m\u001b[0;34m\u001b[0m\u001b[0m\n\u001b[1;32m      5\u001b[0m   \u001b[0mprint\u001b[0m\u001b[0;34m(\u001b[0m\u001b[0mname\u001b[0m\u001b[0;34m.\u001b[0m\u001b[0mupper\u001b[0m\u001b[0;34m(\u001b[0m\u001b[0;34m)\u001b[0m\u001b[0;34m)\u001b[0m\u001b[0;34m\u001b[0m\u001b[0;34m\u001b[0m\u001b[0m\n\u001b[0;32m----> 6\u001b[0;31m \u001b[0mprint\u001b[0m\u001b[0;34m(\u001b[0m\u001b[0mlength\u001b[0m\u001b[0;34m(\u001b[0m\u001b[0mname\u001b[0m\u001b[0;34m)\u001b[0m\u001b[0;34m)\u001b[0m\u001b[0;34m\u001b[0m\u001b[0;34m\u001b[0m\u001b[0m\n\u001b[0m",
            "\u001b[0;31mNameError\u001b[0m: name 'length' is not defined"
          ]
        }
      ]
    },
    {
      "cell_type": "code",
      "source": [],
      "metadata": {
        "id": "bTMBxlHQ3_8g"
      },
      "execution_count": null,
      "outputs": []
    }
  ]
}