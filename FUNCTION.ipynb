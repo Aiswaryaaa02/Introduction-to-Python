{
  "nbformat": 4,
  "nbformat_minor": 0,
  "metadata": {
    "colab": {
      "provenance": [],
      "authorship_tag": "ABX9TyON1QDNme9+1/zZGeGkSiSH",
      "include_colab_link": true
    },
    "kernelspec": {
      "name": "python3",
      "display_name": "Python 3"
    },
    "language_info": {
      "name": "python"
    }
  },
  "cells": [
    {
      "cell_type": "markdown",
      "metadata": {
        "id": "view-in-github",
        "colab_type": "text"
      },
      "source": [
        "<a href=\"https://colab.research.google.com/github/Aiswaryaaa02/Introduction-to-Python/blob/main/FUNCTION.ipynb\" target=\"_parent\"><img src=\"https://colab.research.google.com/assets/colab-badge.svg\" alt=\"Open In Colab\"/></a>"
      ]
    },
    {
      "cell_type": "code",
      "execution_count": null,
      "metadata": {
        "id": "iBL8jbcXqlun"
      },
      "outputs": [],
      "source": [
        "def aiswarya():\n",
        "  print(\"hello world\")\n",
        "  "
      ]
    },
    {
      "cell_type": "code",
      "source": [
        "aiswarya()\n"
      ],
      "metadata": {
        "colab": {
          "base_uri": "https://localhost:8080/"
        },
        "id": "22qmd5A6sglT",
        "outputId": "00fb9277-4fd0-4cef-85a9-21a59343b385"
      },
      "execution_count": null,
      "outputs": [
        {
          "output_type": "stream",
          "name": "stdout",
          "text": [
            "hello world\n"
          ]
        }
      ]
    },
    {
      "cell_type": "code",
      "source": [
        "def aiswarya(x,y):\n",
        "  z=x+y\n",
        "  print(\"result =\",z)"
      ],
      "metadata": {
        "id": "u7smRhWmuxt0"
      },
      "execution_count": null,
      "outputs": []
    },
    {
      "cell_type": "code",
      "source": [
        "aiswarya(5,6)"
      ],
      "metadata": {
        "colab": {
          "base_uri": "https://localhost:8080/"
        },
        "id": "Flzs3_swvDJr",
        "outputId": "23e2dacb-12e8-4f8c-f3ab-83e5cc43c983"
      },
      "execution_count": null,
      "outputs": [
        {
          "output_type": "stream",
          "name": "stdout",
          "text": [
            "result = 11\n"
          ]
        }
      ]
    },
    {
      "cell_type": "code",
      "source": [
        "def aiswarya(x,y):\n",
        "  z=x*y\n",
        "  print(\"result =\",z)"
      ],
      "metadata": {
        "id": "iGt6zMNrvGsa"
      },
      "execution_count": null,
      "outputs": []
    },
    {
      "cell_type": "code",
      "source": [
        "aiswarya(2,5)"
      ],
      "metadata": {
        "colab": {
          "base_uri": "https://localhost:8080/"
        },
        "id": "TdGVMzG9vNh7",
        "outputId": "bfed3526-2b5f-4168-fbc6-90e4a6307305"
      },
      "execution_count": null,
      "outputs": [
        {
          "output_type": "stream",
          "name": "stdout",
          "text": [
            "result = 10\n"
          ]
        }
      ]
    },
    {
      "cell_type": "code",
      "source": [
        "def aiswarya(x,y):\n",
        "  z=x/y\n",
        "  print(\"result =\",z)"
      ],
      "metadata": {
        "id": "y1K_vORFvRjO"
      },
      "execution_count": null,
      "outputs": []
    },
    {
      "cell_type": "code",
      "source": [
        "aiswarya(10,2)"
      ],
      "metadata": {
        "colab": {
          "base_uri": "https://localhost:8080/"
        },
        "id": "Bcqf97CXvVLH",
        "outputId": "59e45bab-df8f-4e7f-fb54-43a079e60bb9"
      },
      "execution_count": null,
      "outputs": [
        {
          "output_type": "stream",
          "name": "stdout",
          "text": [
            "result = 5.0\n"
          ]
        }
      ]
    },
    {
      "cell_type": "code",
      "source": [
        "def aiswarya(x,y):\n",
        "  z=x-y\n",
        "  print(\"result =\",z)"
      ],
      "metadata": {
        "id": "YMbo4Nd0vaRx"
      },
      "execution_count": null,
      "outputs": []
    },
    {
      "cell_type": "code",
      "source": [
        "aiswarya(10,5)"
      ],
      "metadata": {
        "colab": {
          "base_uri": "https://localhost:8080/"
        },
        "id": "EKYWe7OMvcyI",
        "outputId": "2890426e-9fed-4058-cfe1-b753afe20976"
      },
      "execution_count": null,
      "outputs": [
        {
          "output_type": "stream",
          "name": "stdout",
          "text": [
            "result = 5\n"
          ]
        }
      ]
    },
    {
      "cell_type": "code",
      "source": [
        "def x(sal):\n",
        "  if sal>250000:\n",
        "    print(\"you are taxable\")\n",
        "  if sal<250000:\n",
        "    print(\"you are not taxable\")\n",
        "\n",
        "   "
      ],
      "metadata": {
        "id": "TlMuoVjNwD7u"
      },
      "execution_count": null,
      "outputs": []
    },
    {
      "cell_type": "code",
      "source": [
        "sal=int(input(\"enter the salary\"))\n",
        "x(sal)"
      ],
      "metadata": {
        "colab": {
          "base_uri": "https://localhost:8080/"
        },
        "id": "cENa9tXEyoxr",
        "outputId": "61684b5b-a852-4a57-8ad9-82142eedbd14"
      },
      "execution_count": null,
      "outputs": [
        {
          "output_type": "stream",
          "name": "stdout",
          "text": [
            "enter the salary300000\n",
            "you are taxable\n"
          ]
        }
      ]
    },
    {
      "cell_type": "code",
      "source": [
        "def x(y):\n",
        "  z=0\n",
        "  for i in range(y):\n",
        "    z=z+i\n",
        "  print(z)\n",
        "  "
      ],
      "metadata": {
        "id": "CS_eAT0ByAIw"
      },
      "execution_count": null,
      "outputs": []
    },
    {
      "cell_type": "code",
      "source": [
        "n=int(input(\"enter the no\"))\n",
        "x(n)"
      ],
      "metadata": {
        "colab": {
          "base_uri": "https://localhost:8080/"
        },
        "id": "EZxcdgOk3GUF",
        "outputId": "c5dd7c8a-71b9-4998-f5d9-62ea40b97478"
      },
      "execution_count": null,
      "outputs": [
        {
          "output_type": "stream",
          "name": "stdout",
          "text": [
            "enter the no10\n",
            "45\n"
          ]
        }
      ]
    },
    {
      "cell_type": "code",
      "source": [
        "def add(x,y):\n",
        "  print(x+y)\n",
        "def subtract(x,y):\n",
        "  print(x-y)\n",
        "def product(x,y):\n",
        "  print(x*y)\n",
        "def div(x,y):\n",
        "  print(x/y)"
      ],
      "metadata": {
        "id": "zjzS8fnF44XE"
      },
      "execution_count": 41,
      "outputs": []
    },
    {
      "cell_type": "code",
      "source": [
        "x=int(input(\"enter the 1st number\"))\n",
        "y=int(input(\"enter the 2nd number\"))\n",
        "add(x,y)\n",
        "subtract(x,y)\n",
        "product(x,y)\n",
        "div(x,y)"
      ],
      "metadata": {
        "colab": {
          "base_uri": "https://localhost:8080/"
        },
        "id": "ilnGUkkC8x80",
        "outputId": "1c579e65-e28d-4dc0-a459-87129c04a567"
      },
      "execution_count": 42,
      "outputs": [
        {
          "output_type": "stream",
          "name": "stdout",
          "text": [
            "enter the 1st number10\n",
            "enter the 2nd number5\n",
            "15\n",
            "5\n",
            "50\n",
            "2.0\n"
          ]
        }
      ]
    }
  ]
}