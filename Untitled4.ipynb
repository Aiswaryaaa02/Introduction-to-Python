{
  "nbformat": 4,
  "nbformat_minor": 0,
  "metadata": {
    "colab": {
      "provenance": [],
      "authorship_tag": "ABX9TyNgoMTmQC6pRb/I9g3K1MrC",
      "include_colab_link": true
    },
    "kernelspec": {
      "name": "python3",
      "display_name": "Python 3"
    },
    "language_info": {
      "name": "python"
    }
  },
  "cells": [
    {
      "cell_type": "markdown",
      "metadata": {
        "id": "view-in-github",
        "colab_type": "text"
      },
      "source": [
        "<a href=\"https://colab.research.google.com/github/Aiswaryaaa02/Introduction-to-Python/blob/main/Untitled4.ipynb\" target=\"_parent\"><img src=\"https://colab.research.google.com/assets/colab-badge.svg\" alt=\"Open In Colab\"/></a>"
      ]
    },
    {
      "cell_type": "code",
      "execution_count": 6,
      "metadata": {
        "colab": {
          "base_uri": "https://localhost:8080/"
        },
        "id": "aXw1AzHAt4s8",
        "outputId": "441a0464-9c75-426b-c467-ace80eb2973c"
      },
      "outputs": [
        {
          "output_type": "stream",
          "name": "stdout",
          "text": [
            "enter a number 3\n",
            "1 * 3 = 3\n",
            "2 * 3 = 6\n",
            "3 * 3 = 9\n",
            "4 * 3 = 12\n",
            "5 * 3 = 15\n",
            "6 * 3 = 18\n",
            "7 * 3 = 21\n",
            "8 * 3 = 24\n",
            "9 * 3 = 27\n",
            "10 * 3 = 30\n"
          ]
        }
      ],
      "source": [
        "n=int(input(\"enter a number \"))\n",
        "for i in range(1,11):\n",
        "  print(i,'*',n ,'=',i*n)"
      ]
    },
    {
      "cell_type": "code",
      "source": [
        "n=input(\"enter a number \")\n",
        "i=0\n",
        "for j in n:\n",
        "  i=i+1\n",
        "print(i)  \n",
        "\n"
      ],
      "metadata": {
        "colab": {
          "base_uri": "https://localhost:8080/"
        },
        "id": "VA1wwBmGwOTq",
        "outputId": "30be574a-4b82-49b3-aa3a-bfe489980616"
      },
      "execution_count": 13,
      "outputs": [
        {
          "output_type": "stream",
          "name": "stdout",
          "text": [
            "enter a number 456\n",
            "3\n"
          ]
        }
      ]
    },
    {
      "cell_type": "code",
      "source": [
        "n=int(input(\"enter a number \"))\n",
        "i=1\n",
        "while (i<=10):\n",
        "  print(i,'*',n ,'=',i*n)\n",
        "  i=i+1"
      ],
      "metadata": {
        "colab": {
          "base_uri": "https://localhost:8080/"
        },
        "id": "xp1aqhuJw3Kx",
        "outputId": "218b7864-7044-4008-bb11-9bfa5278762c"
      },
      "execution_count": 9,
      "outputs": [
        {
          "output_type": "stream",
          "name": "stdout",
          "text": [
            "enter a number 5\n",
            "1 * 5 = 5\n",
            "2 * 5 = 10\n",
            "3 * 5 = 15\n",
            "4 * 5 = 20\n",
            "5 * 5 = 25\n",
            "6 * 5 = 30\n",
            "7 * 5 = 35\n",
            "8 * 5 = 40\n",
            "9 * 5 = 45\n",
            "10 * 5 = 50\n"
          ]
        }
      ]
    },
    {
      "cell_type": "code",
      "source": [
        "x=input(\"enter a string\")\n",
        "w= \"\"\n",
        "for i in x:  \n",
        "  w=i+w\n",
        "print(w)\n",
        "if x==w: \n",
        "  print('true')\n",
        "else:\n",
        "  print('false')"
      ],
      "metadata": {
        "colab": {
          "base_uri": "https://localhost:8080/"
        },
        "id": "jyAzMqlSyGnJ",
        "outputId": "41e1cc6f-4698-4092-aa14-30101fb609a6"
      },
      "execution_count": 21,
      "outputs": [
        {
          "output_type": "stream",
          "name": "stdout",
          "text": [
            "enter a stringjunaid\n",
            "dianuj\n",
            "false\n"
          ]
        }
      ]
    },
    {
      "cell_type": "code",
      "source": [
        "n=input(\"enter username\")\n",
        "a=input('enter a letter to search')\n",
        "b=input(\"enter the letter to replace\")\n",
        "if a in n:\n",
        "  print(n.replace(a,b))\n"
      ],
      "metadata": {
        "colab": {
          "base_uri": "https://localhost:8080/"
        },
        "id": "8X9ycocc4572",
        "outputId": "9e4b4172-8140-4a94-d11a-0a89c253f020"
      },
      "execution_count": 22,
      "outputs": [
        {
          "output_type": "stream",
          "name": "stdout",
          "text": [
            "enter usernameaidwarya\n",
            "enter a letter to searchd\n",
            "enter the letter to replaces\n",
            "aiswarya\n"
          ]
        }
      ]
    },
    {
      "cell_type": "code",
      "source": [
        "a=input(\"enter the name of country \")\n",
        "b=input(\"enter the name of country\")\n",
        "c=input(\"enter the name of country\")\n",
        "d=input(\"enter the name of country\")\n",
        "e=input(\"enter the name of country\")\n",
        "l=[a,b,c,d,e]\n",
        "print(sorted(l))\n",
        "f=input(\"enter the name of country\")\n",
        "l.append(f)\n",
        "print(l)\n",
        "\n"
      ],
      "metadata": {
        "colab": {
          "base_uri": "https://localhost:8080/",
          "height": 339
        },
        "id": "TZd1H2TA9kW4",
        "outputId": "9043ccc4-94ad-4598-9a84-ca8cff8f1660"
      },
      "execution_count": 33,
      "outputs": [
        {
          "output_type": "stream",
          "name": "stdout",
          "text": [
            "enter the name of country h\n",
            "enter the name of countryhj\n",
            "enter the name of countrygf\n",
            "enter the name of countrygn\n",
            "enter the name of countryfh\n",
            "['fh', 'gf', 'gn', 'h', 'hj']\n",
            "enter the name of countryhj\n",
            "['h', 'hj', 'gf', 'gn', 'fh', 'hj']\n"
          ]
        },
        {
          "output_type": "error",
          "ename": "ValueError",
          "evalue": "ignored",
          "traceback": [
            "\u001b[0;31m---------------------------------------------------------------------------\u001b[0m",
            "\u001b[0;31mValueError\u001b[0m                                Traceback (most recent call last)",
            "\u001b[0;32m<ipython-input-33-ae93b7d3a086>\u001b[0m in \u001b[0;36m<module>\u001b[0;34m\u001b[0m\n\u001b[1;32m      9\u001b[0m \u001b[0ml\u001b[0m\u001b[0;34m.\u001b[0m\u001b[0mappend\u001b[0m\u001b[0;34m(\u001b[0m\u001b[0mf\u001b[0m\u001b[0;34m)\u001b[0m\u001b[0;34m\u001b[0m\u001b[0;34m\u001b[0m\u001b[0m\n\u001b[1;32m     10\u001b[0m \u001b[0mprint\u001b[0m\u001b[0;34m(\u001b[0m\u001b[0ml\u001b[0m\u001b[0;34m)\u001b[0m\u001b[0;34m\u001b[0m\u001b[0;34m\u001b[0m\u001b[0m\n\u001b[0;32m---> 11\u001b[0;31m \u001b[0mprint\u001b[0m\u001b[0;34m(\u001b[0m\u001b[0ml\u001b[0m\u001b[0;34m.\u001b[0m\u001b[0mremove\u001b[0m\u001b[0;34m(\u001b[0m\u001b[0;36m1\u001b[0m\u001b[0;34m)\u001b[0m\u001b[0;34m)\u001b[0m\u001b[0;34m\u001b[0m\u001b[0;34m\u001b[0m\u001b[0m\n\u001b[0m",
            "\u001b[0;31mValueError\u001b[0m: list.remove(x): x not in list"
          ]
        }
      ]
    },
    {
      "cell_type": "code",
      "source": [
        "fgfrhol\n",
        "l"
      ],
      "metadata": {
        "id": "1edDRSaq-Xw5"
      },
      "execution_count": null,
      "outputs": []
    }
  ]
}