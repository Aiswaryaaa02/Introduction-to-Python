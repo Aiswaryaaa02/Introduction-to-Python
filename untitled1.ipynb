{
  "nbformat": 4,
  "nbformat_minor": 0,
  "metadata": {
    "colab": {
      "provenance": [],
      "authorship_tag": "ABX9TyPNOKh11fKCohoQ/okq1fH2",
      "include_colab_link": true
    },
    "kernelspec": {
      "name": "python3",
      "display_name": "Python 3"
    },
    "language_info": {
      "name": "python"
    }
  },
  "cells": [
    {
      "cell_type": "markdown",
      "metadata": {
        "id": "view-in-github",
        "colab_type": "text"
      },
      "source": [
        "<a href=\"https://colab.research.google.com/github/Aiswaryaaa02/Introduction-to-Python/blob/main/untitled1.ipynb\" target=\"_parent\"><img src=\"https://colab.research.google.com/assets/colab-badge.svg\" alt=\"Open In Colab\"/></a>"
      ]
    },
    {
      "cell_type": "code",
      "execution_count": null,
      "metadata": {
        "id": "jVkr4uKqdqYX",
        "colab": {
          "base_uri": "https://localhost:8080/"
        },
        "outputId": "f240d3d5-025e-4464-99ee-2791c95b9a03"
      },
      "outputs": [
        {
          "output_type": "stream",
          "name": "stdout",
          "text": [
            "enter your name :AISWARYA\n",
            "enter your phnoe no :123456789\n",
            "NAME AISWARYA\n",
            "PHONE NO 123456789\n"
          ]
        }
      ],
      "source": [
        "name=input(\"enter your name :\")\n",
        "phn_no=int(input(\"enter your phnoe no :\"))\n",
        "print(\"NAME\",name)\n",
        "print(\"PHONE NO\",phn_no)"
      ]
    },
    {
      "cell_type": "code",
      "source": [
        "m1=int(input(\"enter the mark for subject 1:\"))\n",
        "m2=int(input(\"enter the mark for subject 2 :\"))\n",
        "m3=int(input(\"enter the mark for subject 3 :\"))\n",
        "sum=m1+m2+m3\n",
        "avg=sum/3\n",
        "print(\"the avg of  marks is :\",avg)"
      ],
      "metadata": {
        "colab": {
          "base_uri": "https://localhost:8080/"
        },
        "id": "vSpVztPUiq7p",
        "outputId": "6e199897-255b-4709-d626-b2f323a62ee2"
      },
      "execution_count": null,
      "outputs": [
        {
          "output_type": "stream",
          "name": "stdout",
          "text": [
            "enter the mark for subject 1:10\n",
            "enter the mark for subject 2 :20\n",
            "enter the mark for subject 3 :30\n",
            "the avg of  marks is : 20.0\n"
          ]
        }
      ]
    },
    {
      "cell_type": "code",
      "source": [
        "num1=int(input(\"enter the 1st no\"))\n",
        "num2=int(input(\"enter the 2nd no\"))\n",
        "num3=int(input(\"enter the 3 rd no\"))\n",
        "if num1>num2 and num1>num3:\n",
        "  print(\"the largest number is\",num1)\n",
        "elif num2>num3 and num2>num1:\n",
        "  print(\"the largest number is\",num2)\n",
        "if num3>num1 and num3>num21:\n",
        "  print(\"the largest number is\",num3)"
      ],
      "metadata": {
        "colab": {
          "base_uri": "https://localhost:8080/"
        },
        "id": "XERKEaEHlytF",
        "outputId": "631fb53a-4e84-4fdc-d5ee-adf877605c12"
      },
      "execution_count": null,
      "outputs": [
        {
          "output_type": "stream",
          "name": "stdout",
          "text": [
            "enter the 1st no5\n",
            "enter the 2nd no10\n",
            "enter the 3 rd no34\n",
            "the largest number is 34\n"
          ]
        }
      ]
    },
    {
      "cell_type": "code",
      "source": [
        "n1=int(input(\"enter the number\"))\n",
        "if n1%2==0:\n",
        "  print(n1,\" is even\")\n",
        "if n1%2!=0:\n",
        "  print(n1,\"is odd\")"
      ],
      "metadata": {
        "colab": {
          "base_uri": "https://localhost:8080/"
        },
        "id": "YhxNeO_0vJ9H",
        "outputId": "36a43ddb-b482-41d1-d2fb-53173f24c55d"
      },
      "execution_count": null,
      "outputs": [
        {
          "output_type": "stream",
          "name": "stdout",
          "text": [
            "enter the number10\n",
            "10  is even\n"
          ]
        }
      ]
    },
    {
      "cell_type": "code",
      "source": [
        "for i in range(1,11):\n",
        "  print(i)"
      ],
      "metadata": {
        "id": "3_m22WQXyQej",
        "colab": {
          "base_uri": "https://localhost:8080/"
        },
        "outputId": "656f5eec-2d2b-4b6f-8e1e-ba9de1d37099"
      },
      "execution_count": null,
      "outputs": [
        {
          "output_type": "stream",
          "name": "stdout",
          "text": [
            "1\n",
            "2\n",
            "3\n",
            "4\n",
            "5\n",
            "6\n",
            "7\n",
            "8\n",
            "9\n",
            "10\n"
          ]
        }
      ]
    },
    {
      "cell_type": "code",
      "source": [
        "for i in range(2,11,2):\n",
        "  print(i)"
      ],
      "metadata": {
        "colab": {
          "base_uri": "https://localhost:8080/"
        },
        "id": "c6fQCRjd0DZA",
        "outputId": "dcf24b4e-37a0-42d9-e18f-4102fc0ec52f"
      },
      "execution_count": null,
      "outputs": [
        {
          "output_type": "stream",
          "name": "stdout",
          "text": [
            "2\n",
            "4\n",
            "6\n",
            "8\n",
            "10\n"
          ]
        }
      ]
    },
    {
      "cell_type": "code",
      "source": [
        "\n",
        "for i in range(1,11):\n",
        "  print(i,\"*5 =\",i*5)"
      ],
      "metadata": {
        "colab": {
          "base_uri": "https://localhost:8080/"
        },
        "id": "VR8jJOvU0Olt",
        "outputId": "25a2da9b-69ff-4ec8-af37-3f1c98d358e8"
      },
      "execution_count": null,
      "outputs": [
        {
          "output_type": "stream",
          "name": "stdout",
          "text": [
            "1 *5 = 5\n",
            "2 *5 = 10\n",
            "3 *5 = 15\n",
            "4 *5 = 20\n",
            "5 *5 = 25\n",
            "6 *5 = 30\n",
            "7 *5 = 35\n",
            "8 *5 = 40\n",
            "9 *5 = 45\n",
            "10 *5 = 50\n"
          ]
        }
      ]
    }
  ]
}