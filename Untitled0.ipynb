{
  "nbformat": 4,
  "nbformat_minor": 0,
  "metadata": {
    "colab": {
      "provenance": [],
      "authorship_tag": "ABX9TyOtN147plJ/kC2iOLo4ykzZ",
      "include_colab_link": true
    },
    "kernelspec": {
      "name": "python3",
      "display_name": "Python 3"
    },
    "language_info": {
      "name": "python"
    }
  },
  "cells": [
    {
      "cell_type": "markdown",
      "metadata": {
        "id": "view-in-github",
        "colab_type": "text"
      },
      "source": [
        "<a href=\"https://colab.research.google.com/github/Aiswaryaaa02/Introduction-to-Python/blob/main/Untitled0.ipynb\" target=\"_parent\"><img src=\"https://colab.research.google.com/assets/colab-badge.svg\" alt=\"Open In Colab\"/></a>"
      ]
    },
    {
      "cell_type": "code",
      "execution_count": 7,
      "metadata": {
        "colab": {
          "base_uri": "https://localhost:8080/"
        },
        "id": "UVgsFgu_o1m1",
        "outputId": "3f3a4b46-1914-49db-df1c-3e608079eac7"
      },
      "outputs": [
        {
          "output_type": "stream",
          "name": "stdout",
          "text": [
            "Enter Salary :15000000\n",
            "tax 4450000.0\n"
          ]
        }
      ],
      "source": [
        "s=int(input('Enter Salary :'))\n",
        "if s<250000:                                               \n",
        "  print(\"YOU ARE NOT TAXABLE\")                              \n",
        "elif s>=250000 and s<=500000:                                   \n",
        "  print(\"YOU ARE TAXABLE\")\n",
        "  x=s-250000                                        \n",
        "  print(\"tax\",x*10/100)\n",
        "elif s>500000 and s<=750000:                                                                   # IF THE SALARY =800000   \n",
        "  print(\"YOU ARE TAXABLE\")\n",
        "  y=s-500000                                                                     # TAX=(800000-50000=30000*20/100)+(500000-250000=250000*10/100)\n",
        "  x=250000*10/100                                                                # TAX=850000\n",
        "  print(\"tax\",((y*20/100)+x))\n",
        "elif s>750000 and s<10000000:\n",
        "  y=250000*20/100\n",
        "  x=250000*10/100\n",
        "  z=s-750000\n",
        "  print(\"tax\",((z*30/100)+y+x))\n",
        "elif s>10000000:\n",
        "  x=250000*10/100\n",
        "  y=250000*20/100\n",
        "  z=(s-750000)*30/100\n",
        "  a=(s-10000000)*2/100\n",
        "  print(\"tax\",(x+y+z+a))\n",
        "\n"
      ]
    },
    {
      "cell_type": "code",
      "source": [
        "s=int(input('Enter Salary :'))\n",
        "hra_tax=int(input(\"enter hra tax\"))\n",
        "if hra_tax>s*60/100:\n",
        "  if s<250000:                                               \n",
        "    print(\"YOU ARE NOT TAXABLE\")                              \n",
        "  elif s>=250000 and s<=500000:                                   \n",
        "    print(\"YOU ARE TAXABLE\")\n",
        "    x=s-250000                                        \n",
        "    print(\"tax\",x*10/100)\n",
        "  elif s>500000 and s<=750000:                                                                   # IF THE SALARY =800000   \n",
        "    print(\"YOU ARE TAXABLE\")\n",
        "    y=s-500000                                                                     # TAX=(800000-50000=30000*20/100)+(500000-250000=250000*10/100)\n",
        "    x=250000*10/100                                                                # TAX=850000\n",
        "    print(\"tax\",((y*20/100)+x))\n",
        "  elif s>750000 and s<10000000:\n",
        "    y=250000*20/100\n",
        "    x=250000*10/100\n",
        "    z=s-750000\n",
        "    print(\"tax\",((z*30/100)+y+x))\n",
        "  elif s>10000000:\n",
        "    x=250000*10/100\n",
        "    y=250000*20/100\n",
        "    z=(s-750000)*30/100\n",
        "    a=(s-10000000)*2/100\n",
        "    print(\"tax\",(x+y+z+a))\n",
        "elif hra_tax<s*60/100:\n",
        "  print(\"hra tax :\",s*5/100)\n"
      ],
      "metadata": {
        "colab": {
          "base_uri": "https://localhost:8080/"
        },
        "id": "m0otfe3M0Hfz",
        "outputId": "2b5221a2-e748-4777-a55c-425af98576b7"
      },
      "execution_count": 13,
      "outputs": [
        {
          "output_type": "stream",
          "name": "stdout",
          "text": [
            "Enter Salary :800000\n",
            "enter hra tax80000\n",
            "hra tax : 40000.0\n"
          ]
        }
      ]
    },
    {
      "cell_type": "code",
      "source": [],
      "metadata": {
        "id": "oxiDE47A-PcP"
      },
      "execution_count": null,
      "outputs": []
    }
  ]
}