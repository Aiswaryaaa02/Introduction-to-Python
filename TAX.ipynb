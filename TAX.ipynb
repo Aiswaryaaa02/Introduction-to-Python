{
  "nbformat": 4,
  "nbformat_minor": 0,
  "metadata": {
    "colab": {
      "provenance": [],
      "authorship_tag": "ABX9TyPETnxVBPKPFMDe5O9EEmTP",
      "include_colab_link": true
    },
    "kernelspec": {
      "name": "python3",
      "display_name": "Python 3"
    },
    "language_info": {
      "name": "python"
    }
  },
  "cells": [
    {
      "cell_type": "markdown",
      "metadata": {
        "id": "view-in-github",
        "colab_type": "text"
      },
      "source": [
        "<a href=\"https://colab.research.google.com/github/Aiswaryaaa02/Introduction-to-Python/blob/main/TAX.ipynb\" target=\"_parent\"><img src=\"https://colab.research.google.com/assets/colab-badge.svg\" alt=\"Open In Colab\"/></a>"
      ]
    },
    {
      "cell_type": "code",
      "execution_count": null,
      "metadata": {
        "colab": {
          "base_uri": "https://localhost:8080/"
        },
        "id": "dtooTgLYd__G",
        "outputId": "f35c66fe-ea13-4887-f0d3-b21d4de90d41"
      },
      "outputs": [
        {
          "output_type": "stream",
          "name": "stdout",
          "text": [
            "80\n",
            "YOU ARE PASSED\n"
          ]
        }
      ],
      "source": [
        "mark=int(input())\n",
        "if mark>50:\n",
        "  print(\"YOU ARE PASSED\")\n",
        "else:\n",
        "  print(\"YOU ARE FAILED\")"
      ]
    },
    {
      "cell_type": "code",
      "source": [
        "mark=int(input())\n",
        "if mark>50:\n",
        "  print(\"YOU ARE PASSED\")\n",
        "elif mark==50:\n",
        "  print(\"JUST PASS\")\n",
        "else:\n",
        "  print(\"YOU ARE FAILED\")"
      ],
      "metadata": {
        "colab": {
          "base_uri": "https://localhost:8080/"
        },
        "id": "zTn5SJLqhWmT",
        "outputId": "30b36291-1448-4a2f-9cfd-2e4d9438d64c"
      },
      "execution_count": null,
      "outputs": [
        {
          "output_type": "stream",
          "name": "stdout",
          "text": [
            "50\n",
            "JUST PASS\n"
          ]
        }
      ]
    },
    {
      "cell_type": "code",
      "source": [
        "s=int(input('enter salary'))\n",
        "if s>=250000:\n",
        "  print(\"you are taxable\")\n",
        "elif s<250000:\n",
        "  print(\"you are not taxable\")"
      ],
      "metadata": {
        "colab": {
          "base_uri": "https://localhost:8080/"
        },
        "id": "WQK1ZvmwmwCS",
        "outputId": "2570e8ad-8bc3-42cc-e622-317747fe8b10"
      },
      "execution_count": null,
      "outputs": [
        {
          "output_type": "stream",
          "name": "stdout",
          "text": [
            "enter salary300000\n",
            "you are taxable\n"
          ]
        }
      ]
    },
    {
      "cell_type": "code",
      "source": [
        "s=int(input('Enter Salary :'))\n",
        "if s>=250000:\n",
        "  print(\"YOU ARE TAXABLE\")\n",
        "  x=s-250000\n",
        "  print(\"TAX \",x*10/100)\n",
        "elif s<250000:\n",
        "  print(\"YOU ARE NOT TAXABLE\")"
      ],
      "metadata": {
        "colab": {
          "base_uri": "https://localhost:8080/"
        },
        "outputId": "384fd525-9ea5-4cec-990b-5d4dd7ea632d",
        "id": "zJigpfggmT_T"
      },
      "execution_count": null,
      "outputs": [
        {
          "output_type": "stream",
          "name": "stdout",
          "text": [
            "Enter Salary :300000\n",
            "YOU ARE TAXABLE\n",
            "TAX  5000.0\n"
          ]
        }
      ]
    },
    {
      "cell_type": "code",
      "source": [
        "s=int(input('Enter Salary :'))\n",
        "if s>250000 and s<=500000:\n",
        "  print(\"tax\",s*10/100)\n",
        "elif s>500000:\n",
        "  print(\"tax\",s*20/100)"
      ],
      "metadata": {
        "colab": {
          "base_uri": "https://localhost:8080/"
        },
        "id": "wqgq8_NllnIh",
        "outputId": "f8284284-2553-422a-e008-2378591616c4"
      },
      "execution_count": null,
      "outputs": [
        {
          "output_type": "stream",
          "name": "stdout",
          "text": [
            "Enter Salary :400000\n",
            "tax 40000.0\n"
          ]
        }
      ]
    },
    {
      "cell_type": "code",
      "source": [
        "s=int(input('Enter Salary :'))\n",
        "if s<250000:                                               \n",
        "  print(\"YOU ARE NOT TAXABLE\")                              \n",
        "elif s>=250000 and s<=500000:                                   \n",
        "  print(\"YOU ARE TAXABLE\")\n",
        "  x=s-250000                                        \n",
        "  print(\"tax\",x*10/100)\n",
        "elif s>500000:                                                                   # IF THE SALARY =800000   \n",
        "  print(\"YOU ARE TAXABLE\")\n",
        "  y=s-500000                                                                     # TAX=(800000-50000=30000*20/100)+(500000-250000=250000*10/100)\n",
        "  x=250000*10/100                                                                # TAX=850000\n",
        "  print(\"tax\",((y*20/100)+x))\n",
        "\n"
      ],
      "metadata": {
        "colab": {
          "base_uri": "https://localhost:8080/"
        },
        "id": "KkJyDTdMr2AJ",
        "outputId": "0b93322d-5c73-4a3b-870d-ff4215091e9e"
      },
      "execution_count": 4,
      "outputs": [
        {
          "output_type": "stream",
          "name": "stdout",
          "text": [
            "Enter Salary :800000\n",
            "YOU ARE TAXABLE\n",
            "tax 85000.0\n"
          ]
        }
      ]
    }
  ]
}