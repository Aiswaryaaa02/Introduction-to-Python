{
  "nbformat": 4,
  "nbformat_minor": 0,
  "metadata": {
    "colab": {
      "provenance": [],
      "authorship_tag": "ABX9TyPL6Q2T+5zHDb9tWkOEFWWT",
      "include_colab_link": true
    },
    "kernelspec": {
      "name": "python3",
      "display_name": "Python 3"
    },
    "language_info": {
      "name": "python"
    }
  },
  "cells": [
    {
      "cell_type": "markdown",
      "metadata": {
        "id": "view-in-github",
        "colab_type": "text"
      },
      "source": [
        "<a href=\"https://colab.research.google.com/github/Aiswaryaaa02/Introduction-to-Python/blob/main/Untitled5.ipynb\" target=\"_parent\"><img src=\"https://colab.research.google.com/assets/colab-badge.svg\" alt=\"Open In Colab\"/></a>"
      ]
    },
    {
      "cell_type": "code",
      "execution_count": 1,
      "metadata": {
        "colab": {
          "base_uri": "https://localhost:8080/"
        },
        "id": "wndhCqUH1gcq",
        "outputId": "355a552d-d260-4cb8-ebb1-b735bc96dc3a"
      },
      "outputs": [
        {
          "output_type": "execute_result",
          "data": {
            "text/plain": [
              "int"
            ]
          },
          "metadata": {},
          "execution_count": 1
        }
      ],
      "source": [
        "num=1\n",
        "type(num)\n"
      ]
    },
    {
      "cell_type": "code",
      "source": [
        "num=7.8\n",
        "type(num)"
      ],
      "metadata": {
        "colab": {
          "base_uri": "https://localhost:8080/"
        },
        "id": "1BUJPPsW2_t6",
        "outputId": "36419730-056d-4747-f1ec-271e5f3c3e81"
      },
      "execution_count": 2,
      "outputs": [
        {
          "output_type": "execute_result",
          "data": {
            "text/plain": [
              "float"
            ]
          },
          "metadata": {},
          "execution_count": 2
        }
      ]
    },
    {
      "cell_type": "code",
      "source": [
        "num=1\n",
        "n=4.5\n",
        "x=num+n\n",
        "type(x)"
      ],
      "metadata": {
        "colab": {
          "base_uri": "https://localhost:8080/"
        },
        "id": "2zwYaPkJ3Unk",
        "outputId": "c53ca2bb-c883-43a3-de8f-4275117f6a85"
      },
      "execution_count": 4,
      "outputs": [
        {
          "output_type": "execute_result",
          "data": {
            "text/plain": [
              "float"
            ]
          },
          "metadata": {},
          "execution_count": 4
        }
      ]
    },
    {
      "cell_type": "code",
      "source": [
        "c=10+5j\n",
        "type(c)"
      ],
      "metadata": {
        "colab": {
          "base_uri": "https://localhost:8080/"
        },
        "id": "q1CF6OG-3iSK",
        "outputId": "79111c25-aa94-40e1-fb39-25ae6c9e5916"
      },
      "execution_count": 6,
      "outputs": [
        {
          "output_type": "execute_result",
          "data": {
            "text/plain": [
              "complex"
            ]
          },
          "metadata": {},
          "execution_count": 6
        }
      ]
    },
    {
      "cell_type": "code",
      "source": [
        "name=('aiswarya')\n",
        "type(name)"
      ],
      "metadata": {
        "colab": {
          "base_uri": "https://localhost:8080/"
        },
        "id": "xl-X_mB24Oxm",
        "outputId": "751b59d3-0075-4683-e568-3c11824f19e2"
      },
      "execution_count": 7,
      "outputs": [
        {
          "output_type": "execute_result",
          "data": {
            "text/plain": [
              "str"
            ]
          },
          "metadata": {},
          "execution_count": 7
        }
      ]
    },
    {
      "cell_type": "code",
      "source": [
        "msg=(\" i am a student of rajagiri\")\n",
        "type(msg)"
      ],
      "metadata": {
        "colab": {
          "base_uri": "https://localhost:8080/"
        },
        "id": "RKCKagaJ4dWX",
        "outputId": "863e2c3a-aa83-4aa3-90af-7f670a490fd9"
      },
      "execution_count": 8,
      "outputs": [
        {
          "output_type": "execute_result",
          "data": {
            "text/plain": [
              "str"
            ]
          },
          "metadata": {},
          "execution_count": 8
        }
      ]
    },
    {
      "cell_type": "code",
      "source": [
        "friends=['x','y','z','a','b']\n",
        "friends[0]"
      ],
      "metadata": {
        "colab": {
          "base_uri": "https://localhost:8080/",
          "height": 35
        },
        "id": "17aKyZRj4odX",
        "outputId": "917dd3c2-cdf0-4219-bcae-2bcd7571887f"
      },
      "execution_count": 15,
      "outputs": [
        {
          "output_type": "execute_result",
          "data": {
            "text/plain": [
              "'x'"
            ],
            "application/vnd.google.colaboratory.intrinsic+json": {
              "type": "string"
            }
          },
          "metadata": {},
          "execution_count": 15
        }
      ]
    },
    {
      "cell_type": "code",
      "source": [
        "friends=['x','y','z','a','b']\n",
        "FRIENDS=['MONICA','RACHEL','PHEOBE','CHANDLER','ROSS','JOEY']\n",
        "L=FRIENDS+friends\n",
        "print(L)\n",
        "FRIENDS.pop()\n",
        "print(FRIENDS)\n"
      ],
      "metadata": {
        "colab": {
          "base_uri": "https://localhost:8080/"
        },
        "id": "yd6Zx3yy5kJ4",
        "outputId": "2faae8d4-d2a8-40ed-b639-b3f4ffb05d90"
      },
      "execution_count": 25,
      "outputs": [
        {
          "output_type": "stream",
          "name": "stdout",
          "text": [
            "['MONICA', 'RACHEL', 'PHEOBE', 'CHANDLER', 'ROSS', 'JOEY', 'x', 'y', 'z', 'a', 'b']\n",
            "['MONICA', 'RACHEL', 'PHEOBE', 'CHANDLER', 'ROSS']\n"
          ]
        }
      ]
    },
    {
      "cell_type": "code",
      "source": [
        "friends=['x','y','z','a','b']\n",
        "FRIENDS=['MONICA','RACHEL','PHEOBE','CHANDLER','ROSS','JOEY']\n",
        "L=FRIENDS+friends\n",
        "print(L)\n",
        "FRIENDS.pop(1)\n",
        "print(FRIENDS)\n"
      ],
      "metadata": {
        "colab": {
          "base_uri": "https://localhost:8080/"
        },
        "id": "ZqiIEyS08YFG",
        "outputId": "e3cf921e-b1e7-480a-dd75-471102d714d8"
      },
      "execution_count": 26,
      "outputs": [
        {
          "output_type": "stream",
          "name": "stdout",
          "text": [
            "['MONICA', 'RACHEL', 'PHEOBE', 'CHANDLER', 'ROSS', 'JOEY', 'x', 'y', 'z', 'a', 'b']\n",
            "['MONICA', 'PHEOBE', 'CHANDLER', 'ROSS', 'JOEY']\n"
          ]
        }
      ]
    },
    {
      "cell_type": "code",
      "source": [
        "friends=['x','y','z','a','b']\n",
        "friends.append('c')\n",
        "print(friends)\n",
        "friends.sort()\n",
        "print(friends)\n",
        "friends.reverse()\n",
        "print(friends)\n",
        "friends.insert(1,'a')\n",
        "print(friends)\n"
      ],
      "metadata": {
        "colab": {
          "base_uri": "https://localhost:8080/"
        },
        "id": "rVftRMpa9xp4",
        "outputId": "07d7051d-7d7b-403b-c5e3-a843d8959eb3"
      },
      "execution_count": 37,
      "outputs": [
        {
          "output_type": "stream",
          "name": "stdout",
          "text": [
            "['x', 'y', 'z', 'a', 'b', 'c']\n",
            "['a', 'b', 'c', 'x', 'y', 'z']\n",
            "['z', 'y', 'x', 'c', 'b', 'a']\n",
            "['z', 'a', 'y', 'x', 'c', 'b', 'a']\n"
          ]
        }
      ]
    },
    {
      "cell_type": "code",
      "source": [
        "x=['A','B','C','D','E']\n",
        "y=['v','w','x','y','z']\n",
        "l=x+y\n",
        "print(l)"
      ],
      "metadata": {
        "colab": {
          "base_uri": "https://localhost:8080/"
        },
        "id": "jG4JAeJw-Dmu",
        "outputId": "6d5db8f9-de37-4487-9b7d-4877475b3109"
      },
      "execution_count": 38,
      "outputs": [
        {
          "output_type": "stream",
          "name": "stdout",
          "text": [
            "['A', 'B', 'C', 'D', 'E', 'v', 'w', 'x', 'y', 'z']\n"
          ]
        }
      ]
    },
    {
      "cell_type": "code",
      "source": [
        "tuple_items=('x','y','z','a','b')\n",
        "t1=('d','g','h','d','l')\n",
        "x=tuple_items+t1\n",
        "print(x)\n"
      ],
      "metadata": {
        "colab": {
          "base_uri": "https://localhost:8080/"
        },
        "id": "V18fsfYkCeI7",
        "outputId": "95bddab7-9087-46d3-c091-c6fa7b1026c2"
      },
      "execution_count": 44,
      "outputs": [
        {
          "output_type": "stream",
          "name": "stdout",
          "text": [
            "('x', 'y', 'z', 'a', 'b', 'd', 'g', 'h', 'd', 'l')\n"
          ]
        }
      ]
    },
    {
      "cell_type": "code",
      "source": [
        "marks=[10,20,20,30,40]\n",
        "set1=set(marks)\n",
        "print(set1)"
      ],
      "metadata": {
        "colab": {
          "base_uri": "https://localhost:8080/"
        },
        "id": "F3ZOvUL9EB4q",
        "outputId": "c768e5eb-8ab1-412d-e9c9-2635b737c6a4"
      },
      "execution_count": 45,
      "outputs": [
        {
          "output_type": "stream",
          "name": "stdout",
          "text": [
            "{40, 10, 20, 30}\n"
          ]
        }
      ]
    },
    {
      "cell_type": "code",
      "source": [
        "d={\"name\":\"aiswarya\",\"no\":00000000000,\"place\":\"kadavanthra\"}\n",
        "print(d.keys())\n",
        "print(d.values())\n",
        "print(d.items())\n",
        "#d.update({\"dob\":\"28-02-2005\"})\n",
        "d['dob']='28-02-2005'\n",
        "print(d)"
      ],
      "metadata": {
        "colab": {
          "base_uri": "https://localhost:8080/"
        },
        "id": "JNAR6abrGYVz",
        "outputId": "8d36ac5b-fbfb-4cee-f291-b959fc2a6e79"
      },
      "execution_count": 59,
      "outputs": [
        {
          "output_type": "stream",
          "name": "stdout",
          "text": [
            "dict_keys(['name', 'no', 'place'])\n",
            "dict_values(['aiswarya', 0, 'kadavanthra'])\n",
            "dict_items([('name', 'aiswarya'), ('no', 0), ('place', 'kadavanthra')])\n",
            "{'name': 'aiswarya', 'no': 0, 'place': 'kadavanthra', 'dob': '28-02-2005'}\n"
          ]
        }
      ]
    },
    {
      "cell_type": "code",
      "source": [
        "def add(x,y):\n",
        "  return(x+y)\n",
        "add(2,3)"
      ],
      "metadata": {
        "colab": {
          "base_uri": "https://localhost:8080/"
        },
        "id": "bnolkTuXIqIa",
        "outputId": "92e68abc-a2ae-45ff-c33e-670eedb5694e"
      },
      "execution_count": 61,
      "outputs": [
        {
          "output_type": "execute_result",
          "data": {
            "text/plain": [
              "5"
            ]
          },
          "metadata": {},
          "execution_count": 61
        }
      ]
    },
    {
      "cell_type": "code",
      "source": [
        "def product(x,y,z):\n",
        "  return(x*y*z)\n",
        "product(2,4,1)"
      ],
      "metadata": {
        "colab": {
          "base_uri": "https://localhost:8080/"
        },
        "id": "kDdfJIb8Lyym",
        "outputId": "2dc54819-e33a-4094-aed3-46667e2bf3f3"
      },
      "execution_count": 62,
      "outputs": [
        {
          "output_type": "execute_result",
          "data": {
            "text/plain": [
              "8"
            ]
          },
          "metadata": {},
          "execution_count": 62
        }
      ]
    },
    {
      "cell_type": "code",
      "source": [],
      "metadata": {
        "id": "1MQDgk7LMHtu"
      },
      "execution_count": null,
      "outputs": []
    }
  ]
}